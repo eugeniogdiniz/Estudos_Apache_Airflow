{
 "cells": [
  {
   "cell_type": "code",
   "execution_count": 1,
   "metadata": {},
   "outputs": [
    {
     "name": "stdout",
     "output_type": "stream",
     "text": [
      "Requirement already satisfied: pyspark==3.3.1 in /home/eugenio/Documents/curso/venv/lib/python3.9/site-packages (3.3.1)\n",
      "Requirement already satisfied: py4j==0.10.9.5 in /home/eugenio/Documents/curso/venv/lib/python3.9/site-packages (from pyspark==3.3.1) (0.10.9.5)\n",
      "Note: you may need to restart the kernel to use updated packages.\n"
     ]
    }
   ],
   "source": [
    "pip install pyspark==3.3.1"
   ]
  },
  {
   "cell_type": "code",
   "execution_count": 2,
   "metadata": {},
   "outputs": [],
   "source": [
    "from pyspark.sql import SparkSession"
   ]
  },
  {
   "cell_type": "code",
   "execution_count": 2,
   "metadata": {},
   "outputs": [
    {
     "name": "stdout",
     "output_type": "stream",
     "text": [
      "23/07/17 10:49:28 WARN Utils: Your hostname, ubuntu resolves to a loopback address: 127.0.1.1; using 192.168.242.128 instead (on interface ens33)\n",
      "23/07/17 10:49:28 WARN Utils: Set SPARK_LOCAL_IP if you need to bind to another address\n"
     ]
    },
    {
     "name": "stderr",
     "output_type": "stream",
     "text": [
      "Setting default log level to \"WARN\".\n",
      "To adjust logging level use sc.setLogLevel(newLevel). For SparkR, use setLogLevel(newLevel).\n"
     ]
    },
    {
     "name": "stdout",
     "output_type": "stream",
     "text": [
      "23/07/17 10:49:29 WARN NativeCodeLoader: Unable to load native-hadoop library for your platform... using builtin-java classes where applicable\n"
     ]
    }
   ],
   "source": [
    "spark = SparkSession\\\n",
    "    .builder\\\n",
    "    .appName(\"twitter_transformation\")\\\n",
    "    .getOrCreate()"
   ]
  },
  {
   "cell_type": "code",
   "execution_count": 3,
   "metadata": {},
   "outputs": [
    {
     "name": "stderr",
     "output_type": "stream",
     "text": [
      "                                                                                \r"
     ]
    }
   ],
   "source": [
    "df = spark.read.json(\"../../curso2/datalake/twitter_datascience\")"
   ]
  },
  {
   "cell_type": "code",
   "execution_count": 4,
   "metadata": {},
   "outputs": [
    {
     "name": "stdout",
     "output_type": "stream",
     "text": [
      "+--------------------+--------------------+------------------+------------+\n",
      "|                data|            includes|              meta|extract_date|\n",
      "+--------------------+--------------------+------------------+------------+\n",
      "|[{87, 43, 2023-07...|{[{2023-07-14T17:...|{1234567890abcdef}|  2023-07-14|\n",
      "|[{30, 83, 2023-07...|{[{2023-07-14T11:...|{1234567890abcdef}|  2023-07-14|\n",
      "|[{0, 12, 2023-07-...|{[{2023-07-14T06:...|              null|  2023-07-14|\n",
      "|[{87, 99, 2023-07...|{[{2023-07-16T17:...|{1234567890abcdef}|  2023-07-16|\n",
      "|[{16, 30, 2023-07...|{[{2023-07-16T17:...|              null|  2023-07-16|\n",
      "|[{76, 51, 2023-07...|{[{2023-07-13T06:...|{1234567890abcdef}|  2023-07-13|\n",
      "|[{32, 55, 2023-07...|{[{2023-07-13T15:...|              null|  2023-07-13|\n",
      "|[{90, 5, 2023-07-...|{[{2023-07-15T20:...|              null|  2023-07-15|\n",
      "|[{16, 65, 2023-07...|{[{2023-07-12T14:...|              null|  2023-07-12|\n",
      "|[{57, 89, 2023-07...|{[{2023-07-11T06:...|              null|  2023-07-11|\n",
      "+--------------------+--------------------+------------------+------------+\n",
      "\n"
     ]
    }
   ],
   "source": [
    "df.show()"
   ]
  },
  {
   "cell_type": "code",
   "execution_count": 5,
   "metadata": {},
   "outputs": [
    {
     "name": "stdout",
     "output_type": "stream",
     "text": [
      "root\n",
      " |-- data: array (nullable = true)\n",
      " |    |-- element: struct (containsNull = true)\n",
      " |    |    |-- author_id: string (nullable = true)\n",
      " |    |    |-- conversation_id: string (nullable = true)\n",
      " |    |    |-- created_at: string (nullable = true)\n",
      " |    |    |-- edit_history_tweet_ids: array (nullable = true)\n",
      " |    |    |    |-- element: long (containsNull = true)\n",
      " |    |    |-- id: string (nullable = true)\n",
      " |    |    |-- in_reply_to_user_id: string (nullable = true)\n",
      " |    |    |-- lang: string (nullable = true)\n",
      " |    |    |-- public_metrics: struct (nullable = true)\n",
      " |    |    |    |-- like_count: long (nullable = true)\n",
      " |    |    |    |-- quote_count: long (nullable = true)\n",
      " |    |    |    |-- reply_count: long (nullable = true)\n",
      " |    |    |    |-- retweet_count: long (nullable = true)\n",
      " |    |    |-- text: string (nullable = true)\n",
      " |-- includes: struct (nullable = true)\n",
      " |    |-- users: array (nullable = true)\n",
      " |    |    |-- element: struct (containsNull = true)\n",
      " |    |    |    |-- created_at: string (nullable = true)\n",
      " |    |    |    |-- id: string (nullable = true)\n",
      " |    |    |    |-- name: string (nullable = true)\n",
      " |    |    |    |-- username: string (nullable = true)\n",
      " |-- meta: struct (nullable = true)\n",
      " |    |-- next_token: string (nullable = true)\n",
      " |-- extract_date: date (nullable = true)\n",
      "\n"
     ]
    }
   ],
   "source": [
    "df.printSchema()"
   ]
  },
  {
   "cell_type": "code",
   "execution_count": 6,
   "metadata": {},
   "outputs": [],
   "source": [
    "from pyspark.sql import functions as f"
   ]
  },
  {
   "cell_type": "code",
   "execution_count": 10,
   "metadata": {},
   "outputs": [
    {
     "name": "stdout",
     "output_type": "stream",
     "text": [
      "root\n",
      " |-- col: struct (nullable = true)\n",
      " |    |-- author_id: string (nullable = true)\n",
      " |    |-- conversation_id: string (nullable = true)\n",
      " |    |-- created_at: string (nullable = true)\n",
      " |    |-- edit_history_tweet_ids: array (nullable = true)\n",
      " |    |    |-- element: long (containsNull = true)\n",
      " |    |-- id: string (nullable = true)\n",
      " |    |-- in_reply_to_user_id: string (nullable = true)\n",
      " |    |-- lang: string (nullable = true)\n",
      " |    |-- public_metrics: struct (nullable = true)\n",
      " |    |    |-- like_count: long (nullable = true)\n",
      " |    |    |-- quote_count: long (nullable = true)\n",
      " |    |    |-- reply_count: long (nullable = true)\n",
      " |    |    |-- retweet_count: long (nullable = true)\n",
      " |    |-- text: string (nullable = true)\n",
      "\n"
     ]
    }
   ],
   "source": [
    "df.select(f.explode(\"data\")).printSchema()"
   ]
  },
  {
   "cell_type": "code",
   "execution_count": 12,
   "metadata": {},
   "outputs": [
    {
     "name": "stdout",
     "output_type": "stream",
     "text": [
      "+--------------------+\n",
      "|                 col|\n",
      "+--------------------+\n",
      "|{87, 43, 2023-07-...|\n",
      "|{30, 85, 2023-07-...|\n",
      "|{61, 55, 2023-07-...|\n",
      "|{35, 44, 2023-07-...|\n",
      "|{30, 28, 2023-07-...|\n",
      "|{69, 52, 2023-07-...|\n",
      "|{79, 53, 2023-07-...|\n",
      "|{18, 10, 2023-07-...|\n",
      "|{67, 81, 2023-07-...|\n",
      "|{7, 96, 2023-07-1...|\n",
      "|{30, 83, 2023-07-...|\n",
      "|{27, 44, 2023-07-...|\n",
      "|{11, 24, 2023-07-...|\n",
      "|{13, 83, 2023-07-...|\n",
      "|{35, 19, 2023-07-...|\n",
      "|{97, 42, 2023-07-...|\n",
      "|{100, 1, 2023-07-...|\n",
      "|{54, 87, 2023-07-...|\n",
      "|{25, 36, 2023-07-...|\n",
      "|{63, 87, 2023-07-...|\n",
      "|{0, 12, 2023-07-1...|\n",
      "|{40, 26, 2023-07-...|\n",
      "|{100, 62, 2023-07...|\n",
      "|{100, 69, 2023-07...|\n",
      "|{38, 74, 2023-07-...|\n",
      "|{8, 57, 2023-07-1...|\n",
      "|{63, 85, 2023-07-...|\n",
      "|{74, 99, 2023-07-...|\n",
      "|{68, 4, 2023-07-1...|\n",
      "|{97, 33, 2023-07-...|\n",
      "|{87, 99, 2023-07-...|\n",
      "|{42, 91, 2023-07-...|\n",
      "|{1, 88, 2023-07-1...|\n",
      "|{42, 88, 2023-07-...|\n",
      "|{82, 91, 2023-07-...|\n",
      "|{48, 27, 2023-07-...|\n",
      "|{37, 48, 2023-07-...|\n",
      "|{58, 49, 2023-07-...|\n",
      "|{52, 52, 2023-07-...|\n",
      "|{3, 30, 2023-07-1...|\n",
      "|{16, 30, 2023-07-...|\n",
      "|{61, 58, 2023-07-...|\n",
      "|{57, 21, 2023-07-...|\n",
      "|{95, 64, 2023-07-...|\n",
      "|{52, 91, 2023-07-...|\n",
      "|{56, 58, 2023-07-...|\n",
      "|{41, 50, 2023-07-...|\n",
      "|{16, 96, 2023-07-...|\n",
      "|{95, 10, 2023-07-...|\n",
      "|{70, 17, 2023-07-...|\n",
      "|{76, 51, 2023-07-...|\n",
      "|{24, 88, 2023-07-...|\n",
      "|{61, 77, 2023-07-...|\n",
      "|{89, 3, 2023-07-1...|\n",
      "|{87, 16, 2023-07-...|\n",
      "|{17, 59, 2023-07-...|\n",
      "|{7, 76, 2023-07-1...|\n",
      "|{95, 61, 2023-07-...|\n",
      "|{69, 0, 2023-07-1...|\n",
      "|{41, 0, 2023-07-1...|\n",
      "|{32, 55, 2023-07-...|\n",
      "|{85, 39, 2023-07-...|\n",
      "|{3, 73, 2023-07-1...|\n",
      "|{58, 55, 2023-07-...|\n",
      "|{56, 91, 2023-07-...|\n",
      "|{16, 79, 2023-07-...|\n",
      "|{12, 48, 2023-07-...|\n",
      "|{19, 32, 2023-07-...|\n",
      "|{7, 94, 2023-07-1...|\n",
      "|{43, 44, 2023-07-...|\n",
      "|{90, 5, 2023-07-1...|\n",
      "|{67, 61, 2023-07-...|\n",
      "|{62, 72, 2023-07-...|\n",
      "|{76, 33, 2023-07-...|\n",
      "|{69, 1, 2023-07-1...|\n",
      "|{86, 45, 2023-07-...|\n",
      "|{36, 67, 2023-07-...|\n",
      "|{58, 46, 2023-07-...|\n",
      "|{96, 7, 2023-07-1...|\n",
      "|{60, 52, 2023-07-...|\n",
      "|{16, 65, 2023-07-...|\n",
      "|{84, 64, 2023-07-...|\n",
      "|{14, 9, 2023-07-1...|\n",
      "|{50, 95, 2023-07-...|\n",
      "|{54, 69, 2023-07-...|\n",
      "|{73, 7, 2023-07-1...|\n",
      "|{84, 31, 2023-07-...|\n",
      "|{87, 16, 2023-07-...|\n",
      "|{95, 28, 2023-07-...|\n",
      "|{94, 58, 2023-07-...|\n",
      "|{57, 89, 2023-07-...|\n",
      "|{48, 56, 2023-07-...|\n",
      "|{28, 5, 2023-07-1...|\n",
      "|{97, 60, 2023-07-...|\n",
      "|{98, 1, 2023-07-1...|\n",
      "|{82, 70, 2023-07-...|\n",
      "|{5, 92, 2023-07-1...|\n",
      "|{67, 19, 2023-07-...|\n",
      "|{83, 79, 2023-07-...|\n",
      "|{95, 69, 2023-07-...|\n",
      "+--------------------+\n",
      "\n"
     ]
    }
   ],
   "source": [
    "df.select(f.explode(\"data\")).show(100)"
   ]
  },
  {
   "cell_type": "code",
   "execution_count": 15,
   "metadata": {},
   "outputs": [
    {
     "name": "stdout",
     "output_type": "stream",
     "text": [
      "root\n",
      " |-- author_id: string (nullable = true)\n",
      " |-- conversation_id: string (nullable = true)\n",
      " |-- created_at: string (nullable = true)\n",
      " |-- id: string (nullable = true)\n",
      " |-- like_count: long (nullable = true)\n",
      " |-- quote_count: long (nullable = true)\n",
      " |-- reply_count: long (nullable = true)\n",
      " |-- retweet_count: long (nullable = true)\n",
      " |-- text: string (nullable = true)\n",
      "\n"
     ]
    }
   ],
   "source": [
    "df.select(f.explode(\"data\").alias(\"tweets\"))\\\n",
    ".select(\"tweets.author_id\", \"tweets.conversation_id\",\n",
    "        \"tweets.created_at\", \"tweets.id\",\n",
    "        \"tweets.public_metrics.*\", \"tweets.text\").printSchema()"
   ]
  },
  {
   "cell_type": "code",
   "execution_count": 17,
   "metadata": {},
   "outputs": [],
   "source": [
    "tweet_df = df.select(f.explode(\"data\").alias(\"tweets\"))\\\n",
    ".select(\"tweets.author_id\", \"tweets.conversation_id\",\n",
    "        \"tweets.created_at\", \"tweets.id\",\n",
    "        \"tweets.public_metrics.*\", \"tweets.text\")"
   ]
  },
  {
   "cell_type": "code",
   "execution_count": 18,
   "metadata": {},
   "outputs": [
    {
     "name": "stdout",
     "output_type": "stream",
     "text": [
      "+---------+---------------+--------------------+---+----------+-----------+-----------+-------------+--------------------+\n",
      "|author_id|conversation_id|          created_at| id|like_count|quote_count|reply_count|retweet_count|                text|\n",
      "+---------+---------------+--------------------+---+----------+-----------+-----------+-------------+--------------------+\n",
      "|       87|             43|2023-07-14T15:59:...| 44|        18|         96|         28|           88|Este é um tweet f...|\n",
      "|       30|             85|2023-07-14T02:22:...| 46|        77|         78|         36|           34|Outro tweet fictí...|\n",
      "|       61|             55|2023-07-14T06:55:...| 88|        95|         37|         99|           54|Outro tweet fictí...|\n",
      "|       35|             44|2023-07-14T14:32:...| 75|        65|         40|         45|           49|Tweet fictício ge...|\n",
      "|       30|             28|2023-07-14T19:01:...| 67|        37|         59|         48|           17|Este é um tweet f...|\n",
      "+---------+---------------+--------------------+---+----------+-----------+-----------+-------------+--------------------+\n",
      "only showing top 5 rows\n",
      "\n"
     ]
    }
   ],
   "source": [
    "tweet_df.show(5)"
   ]
  },
  {
   "cell_type": "code",
   "execution_count": 19,
   "metadata": {},
   "outputs": [],
   "source": [
    "tweet_df.coalesce(1).write.mode(\"overwrite\").json('output/tweet')\n"
   ]
  },
  {
   "cell_type": "code",
   "execution_count": null,
   "metadata": {},
   "outputs": [],
   "source": []
  }
 ],
 "metadata": {
  "kernelspec": {
   "display_name": "venv",
   "language": "python",
   "name": "python3"
  },
  "language_info": {
   "codemirror_mode": {
    "name": "ipython",
    "version": 3
   },
   "file_extension": ".py",
   "mimetype": "text/x-python",
   "name": "python",
   "nbconvert_exporter": "python",
   "pygments_lexer": "ipython3",
   "version": "3.9.17"
  },
  "orig_nbformat": 4
 },
 "nbformat": 4,
 "nbformat_minor": 2
}
