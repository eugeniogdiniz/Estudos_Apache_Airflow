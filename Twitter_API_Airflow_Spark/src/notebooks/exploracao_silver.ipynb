{
 "cells": [
  {
   "cell_type": "code",
   "execution_count": 2,
   "metadata": {},
   "outputs": [],
   "source": [
    "from pyspark.sql import SparkSession"
   ]
  },
  {
   "cell_type": "code",
   "execution_count": 3,
   "metadata": {},
   "outputs": [
    {
     "name": "stdout",
     "output_type": "stream",
     "text": [
      "23/07/18 11:47:14 WARN Utils: Your hostname, ubuntu resolves to a loopback address: 127.0.1.1; using 192.168.242.128 instead (on interface ens33)\n",
      "23/07/18 11:47:14 WARN Utils: Set SPARK_LOCAL_IP if you need to bind to another address\n"
     ]
    },
    {
     "name": "stderr",
     "output_type": "stream",
     "text": [
      "Setting default log level to \"WARN\".\n",
      "To adjust logging level use sc.setLogLevel(newLevel). For SparkR, use setLogLevel(newLevel).\n"
     ]
    },
    {
     "name": "stdout",
     "output_type": "stream",
     "text": [
      "23/07/18 11:47:15 WARN NativeCodeLoader: Unable to load native-hadoop library for your platform... using builtin-java classes where applicable\n"
     ]
    }
   ],
   "source": [
    "spark = SparkSession\\\n",
    "    .builder\\\n",
    "    .appName(\"twitter_silver\")\\\n",
    "    .getOrCreate()"
   ]
  },
  {
   "cell_type": "code",
   "execution_count": 4,
   "metadata": {},
   "outputs": [
    {
     "name": "stderr",
     "output_type": "stream",
     "text": [
      "                                                                                \r"
     ]
    }
   ],
   "source": [
    "df_tweet = spark.read.json(\"/home/eugenio/Documents/curso/datalake/Silver/twitter_datascience/tweets\")"
   ]
  },
  {
   "cell_type": "code",
   "execution_count": 5,
   "metadata": {},
   "outputs": [
    {
     "name": "stdout",
     "output_type": "stream",
     "text": [
      "+---------+---------------+--------------------+---+----------+-----------+-----------+-------------+--------------------+------------+\n",
      "|author_id|conversation_id|          created_at| id|like_count|quote_count|reply_count|retweet_count|                text|process_date|\n",
      "+---------+---------------+--------------------+---+----------+-----------+-----------+-------------+--------------------+------------+\n",
      "|       42|             22|2023-07-16T16:31:...| 48|        78|         18|         55|           82|Tweet fictício ge...|  2023-07-16|\n",
      "|       46|              6|2023-07-16T14:07:...| 65|        59|         69|         80|           35|Tweet fictício ge...|  2023-07-16|\n",
      "|       94|             19|2023-07-16T00:37:...| 96|         3|         95|         66|           98|Tweet fictício cr...|  2023-07-16|\n",
      "|       27|             99|2023-07-16T02:28:...| 95|        59|         17|         99|           45|Um terceiro tweet...|  2023-07-16|\n",
      "|       56|             26|2023-07-16T03:06:...| 98|        80|         93|          0|           96|Outro tweet fictí...|  2023-07-16|\n",
      "|        8|             96|2023-07-16T16:57:...| 25|        25|         94|          7|           26|Um terceiro tweet...|  2023-07-16|\n",
      "|       41|             94|2023-07-16T09:03:...| 84|        20|         71|         54|           60|Um terceiro tweet...|  2023-07-16|\n",
      "|        3|             57|2023-07-16T10:48:...| 15|        31|         99|         55|           20|Outro tweet fictí...|  2023-07-16|\n",
      "|       51|              7|2023-07-16T19:04:...| 38|        82|         15|         75|           97|Outro tweet fictí...|  2023-07-16|\n",
      "|        9|              9|2023-07-16T06:24:...| 33|        37|         65|         66|            5|Outro tweet fictí...|  2023-07-16|\n",
      "|       29|             68|2023-07-16T17:26:...| 24|        86|         77|         68|           52|Tweet fictício ge...|  2023-07-16|\n",
      "|       32|             78|2023-07-16T00:16:...| 59|        94|         85|         64|           50|Outro tweet fictí...|  2023-07-16|\n",
      "|        9|             30|2023-07-16T07:54:...| 96|        77|         98|         96|           33|Este é um tweet f...|  2023-07-16|\n",
      "|       55|              7|2023-07-16T02:06:...|  4|        30|         24|         56|           94|Este é um tweet f...|  2023-07-16|\n",
      "|       89|             31|2023-07-16T11:34:...| 61|        47|         11|         49|           92|Outro tweet fictí...|  2023-07-16|\n",
      "|      100|             26|2023-07-16T12:37:...| 90|        77|         92|         27|           89|Outro tweet fictí...|  2023-07-16|\n",
      "|       76|             20|2023-07-16T04:01:...| 14|        79|         63|         94|            7|Tweet fictício ge...|  2023-07-16|\n",
      "|       13|             13|2023-07-16T02:03:...| 10|         6|         63|         58|           19|Este é um tweet f...|  2023-07-16|\n",
      "|       88|             54|2023-07-16T03:12:...| 54|        40|         61|         47|           26|Tweet fictício cr...|  2023-07-16|\n",
      "|        4|             87|2023-07-16T18:36:...| 82|        82|         28|         97|           35|Este é um tweet f...|  2023-07-16|\n",
      "+---------+---------------+--------------------+---+----------+-----------+-----------+-------------+--------------------+------------+\n",
      "only showing top 20 rows\n",
      "\n"
     ]
    }
   ],
   "source": [
    "df_tweet.show()"
   ]
  },
  {
   "cell_type": "code",
   "execution_count": 6,
   "metadata": {},
   "outputs": [
    {
     "name": "stdout",
     "output_type": "stream",
     "text": [
      "root\n",
      " |-- author_id: string (nullable = true)\n",
      " |-- conversation_id: string (nullable = true)\n",
      " |-- created_at: string (nullable = true)\n",
      " |-- id: string (nullable = true)\n",
      " |-- like_count: long (nullable = true)\n",
      " |-- quote_count: long (nullable = true)\n",
      " |-- reply_count: long (nullable = true)\n",
      " |-- retweet_count: long (nullable = true)\n",
      " |-- text: string (nullable = true)\n",
      " |-- process_date: date (nullable = true)\n",
      "\n"
     ]
    }
   ],
   "source": [
    "df_tweet.printSchema()"
   ]
  },
  {
   "cell_type": "code",
   "execution_count": 7,
   "metadata": {},
   "outputs": [],
   "source": [
    "from pyspark.sql import functions as f"
   ]
  },
  {
   "cell_type": "code",
   "execution_count": 9,
   "metadata": {},
   "outputs": [],
   "source": [
    "tweet_conversas = df_tweet.alias('tweet')\\\n",
    "                    .groupBy(f.to_date(\"created_at\").alias('created_date'))\\\n",
    "                    .agg(\n",
    "                        f.countDistinct(\"author_id\").alias('n_tweets'),\n",
    "                        f.sum(\"like_count\").alias('n_likes'),\n",
    "                        f.sum(\"quote_count\").alias('n_quote'),\n",
    "                        f.sum(\"reply_count\").alias('n_reply'),\n",
    "                        f.sum(\"retweet_count\").alias('retweet')                        \n",
    "                    ).withColumn(\"Weekday\", f.date_format(\"created_date\", \"E\"))"
   ]
  },
  {
   "cell_type": "code",
   "execution_count": 10,
   "metadata": {},
   "outputs": [
    {
     "name": "stdout",
     "output_type": "stream",
     "text": [
      "+------------+--------+-------+-------+-------+-------+-------+\n",
      "|created_date|n_tweets|n_likes|n_quote|n_reply|retweet|Weekday|\n",
      "+------------+--------+-------+-------+-------+-------+-------+\n",
      "|  2023-07-15|      10|    408|    421|    582|    489|    Sat|\n",
      "|  2023-07-12|       9|    591|    566|    451|    338|    Wed|\n",
      "|  2023-07-13|       9|    370|    460|    411|    405|    Thu|\n",
      "|  2023-07-16|      19|   1092|   1238|   1213|   1061|    Sun|\n",
      "|  2023-07-14|       9|    585|    301|    536|    478|    Fri|\n",
      "|  2023-07-17|      10|    434|    521|    374|    539|    Mon|\n",
      "+------------+--------+-------+-------+-------+-------+-------+\n",
      "\n"
     ]
    }
   ],
   "source": [
    "tweet_conversas.show()"
   ]
  },
  {
   "cell_type": "code",
   "execution_count": 15,
   "metadata": {},
   "outputs": [
    {
     "name": "stdout",
     "output_type": "stream",
     "text": [
      "root\n",
      " |-- author_id: string (nullable = true)\n",
      " |-- conversation_id: string (nullable = true)\n",
      " |-- created_at: string (nullable = true)\n",
      " |-- id: string (nullable = true)\n",
      " |-- like_count: long (nullable = true)\n",
      " |-- quote_count: long (nullable = true)\n",
      " |-- reply_count: long (nullable = true)\n",
      " |-- retweet_count: long (nullable = true)\n",
      " |-- text: string (nullable = true)\n",
      "\n"
     ]
    }
   ],
   "source": [
    "df.select(f.explode(\"data\").alias(\"tweets\"))\\\n",
    ".select(\"tweets.author_id\", \"tweets.conversation_id\",\n",
    "        \"tweets.created_at\", \"tweets.id\",\n",
    "        \"tweets.public_metrics.*\", \"tweets.text\").printSchema()"
   ]
  },
  {
   "cell_type": "code",
   "execution_count": 17,
   "metadata": {},
   "outputs": [],
   "source": [
    "tweet_df = df.select(f.explode(\"data\").alias(\"tweets\"))\\\n",
    ".select(\"tweets.author_id\", \"tweets.conversation_id\",\n",
    "        \"tweets.created_at\", \"tweets.id\",\n",
    "        \"tweets.public_metrics.*\", \"tweets.text\")"
   ]
  },
  {
   "cell_type": "code",
   "execution_count": 18,
   "metadata": {},
   "outputs": [
    {
     "name": "stdout",
     "output_type": "stream",
     "text": [
      "+---------+---------------+--------------------+---+----------+-----------+-----------+-------------+--------------------+\n",
      "|author_id|conversation_id|          created_at| id|like_count|quote_count|reply_count|retweet_count|                text|\n",
      "+---------+---------------+--------------------+---+----------+-----------+-----------+-------------+--------------------+\n",
      "|       87|             43|2023-07-14T15:59:...| 44|        18|         96|         28|           88|Este é um tweet f...|\n",
      "|       30|             85|2023-07-14T02:22:...| 46|        77|         78|         36|           34|Outro tweet fictí...|\n",
      "|       61|             55|2023-07-14T06:55:...| 88|        95|         37|         99|           54|Outro tweet fictí...|\n",
      "|       35|             44|2023-07-14T14:32:...| 75|        65|         40|         45|           49|Tweet fictício ge...|\n",
      "|       30|             28|2023-07-14T19:01:...| 67|        37|         59|         48|           17|Este é um tweet f...|\n",
      "+---------+---------------+--------------------+---+----------+-----------+-----------+-------------+--------------------+\n",
      "only showing top 5 rows\n",
      "\n"
     ]
    }
   ],
   "source": [
    "tweet_df.show(5)"
   ]
  },
  {
   "cell_type": "code",
   "execution_count": 19,
   "metadata": {},
   "outputs": [],
   "source": [
    "tweet_df.coalesce(1).write.mode(\"overwrite\").json('output/tweet')\n"
   ]
  },
  {
   "cell_type": "code",
   "execution_count": null,
   "metadata": {},
   "outputs": [],
   "source": []
  }
 ],
 "metadata": {
  "kernelspec": {
   "display_name": "venv",
   "language": "python",
   "name": "python3"
  },
  "language_info": {
   "codemirror_mode": {
    "name": "ipython",
    "version": 3
   },
   "file_extension": ".py",
   "mimetype": "text/x-python",
   "name": "python",
   "nbconvert_exporter": "python",
   "pygments_lexer": "ipython3",
   "version": "3.9.17"
  },
  "orig_nbformat": 4
 },
 "nbformat": 4,
 "nbformat_minor": 2
}
