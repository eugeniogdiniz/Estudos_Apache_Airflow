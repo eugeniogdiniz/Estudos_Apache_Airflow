{
 "cells": [
  {
   "cell_type": "code",
   "execution_count": 13,
   "metadata": {},
   "outputs": [],
   "source": [
    "#pip install pandas; pip install pyautogui; pip install selenium; pip install openpyxl"
   ]
  },
  {
   "cell_type": "code",
   "execution_count": 2,
   "metadata": {},
   "outputs": [
    {
     "name": "stdout",
     "output_type": "stream",
     "text": [
      "01/07/2023\n"
     ]
    }
   ],
   "source": [
    "import datetime\n",
    "\n",
    "data_atual = datetime.datetime.now()  # Obtém a data e hora atual\n",
    "\n",
    "primeiro_dia_mes = data_atual.replace(day=1).strftime(\"%d/%m/%Y\")\n",
    "\n",
    "print(primeiro_dia_mes) "
   ]
  },
  {
   "cell_type": "code",
   "execution_count": 14,
   "metadata": {},
   "outputs": [],
   "source": [
    "import time \n",
    "import pandas as pd\n",
    "import pyautogui as pyag\n",
    "import os\n",
    "import shutil\n",
    "from selenium import webdriver\n",
    "from selenium.webdriver.chrome.options import Options\n",
    "from selenium.webdriver.common.keys import Keys\n",
    "import requests"
   ]
  },
  {
   "cell_type": "code",
   "execution_count": 15,
   "metadata": {},
   "outputs": [],
   "source": [
    "df = pd.read_excel('/home/eugenio/Documentos/selenium_airflow/docs/Extracao.xlsx')"
   ]
  },
  {
   "cell_type": "code",
   "execution_count": 16,
   "metadata": {},
   "outputs": [
    {
     "data": {
      "text/html": [
       "<div>\n",
       "<style scoped>\n",
       "    .dataframe tbody tr th:only-of-type {\n",
       "        vertical-align: middle;\n",
       "    }\n",
       "\n",
       "    .dataframe tbody tr th {\n",
       "        vertical-align: top;\n",
       "    }\n",
       "\n",
       "    .dataframe thead th {\n",
       "        text-align: right;\n",
       "    }\n",
       "</style>\n",
       "<table border=\"1\" class=\"dataframe\">\n",
       "  <thead>\n",
       "    <tr style=\"text-align: right;\">\n",
       "      <th></th>\n",
       "      <th>Pais</th>\n",
       "      <th>Cód</th>\n",
       "      <th>Num</th>\n",
       "      <th>Moeda</th>\n",
       "      <th>Cód_BCB</th>\n",
       "      <th>DataIN</th>\n",
       "      <th>DataFIM</th>\n",
       "      <th>Link_Download_CSV</th>\n",
       "    </tr>\n",
       "  </thead>\n",
       "  <tbody>\n",
       "    <tr>\n",
       "      <th>0</th>\n",
       "      <td>Colombia</td>\n",
       "      <td>COP</td>\n",
       "      <td>720</td>\n",
       "      <td>PESO/COLOMBIA</td>\n",
       "      <td>ChkMoeda=159</td>\n",
       "      <td>01/05/2023</td>\n",
       "      <td>16/05/2023</td>\n",
       "      <td>https://ptax.bcb.gov.br/ptax_internet/consulta...</td>\n",
       "    </tr>\n",
       "    <tr>\n",
       "      <th>1</th>\n",
       "      <td>Chile</td>\n",
       "      <td>CLP</td>\n",
       "      <td>715</td>\n",
       "      <td>PESO CHILE</td>\n",
       "      <td>ChkMoeda=158</td>\n",
       "      <td>01/05/2023</td>\n",
       "      <td>16/05/2023</td>\n",
       "      <td>https://ptax.bcb.gov.br/ptax_internet/consulta...</td>\n",
       "    </tr>\n",
       "    <tr>\n",
       "      <th>2</th>\n",
       "      <td>Bolivia</td>\n",
       "      <td>BOB</td>\n",
       "      <td>30</td>\n",
       "      <td>BOLIVIANO/BOLIVIA</td>\n",
       "      <td>ChkMoeda=9</td>\n",
       "      <td>01/05/2023</td>\n",
       "      <td>16/05/2023</td>\n",
       "      <td>https://ptax.bcb.gov.br/ptax_internet/consulta...</td>\n",
       "    </tr>\n",
       "    <tr>\n",
       "      <th>3</th>\n",
       "      <td>Mexico</td>\n",
       "      <td>MXN</td>\n",
       "      <td>741</td>\n",
       "      <td>PESO/MEXICO</td>\n",
       "      <td>ChkMoeda=165</td>\n",
       "      <td>01/05/2023</td>\n",
       "      <td>16/05/2023</td>\n",
       "      <td>https://ptax.bcb.gov.br/ptax_internet/consulta...</td>\n",
       "    </tr>\n",
       "    <tr>\n",
       "      <th>4</th>\n",
       "      <td>Republica Dominicana</td>\n",
       "      <td>DOP</td>\n",
       "      <td>730</td>\n",
       "      <td>PESO/REP. DOMINIC</td>\n",
       "      <td>ChkMoeda=161</td>\n",
       "      <td>01/05/2023</td>\n",
       "      <td>16/05/2023</td>\n",
       "      <td>https://ptax.bcb.gov.br/ptax_internet/consulta...</td>\n",
       "    </tr>\n",
       "  </tbody>\n",
       "</table>\n",
       "</div>"
      ],
      "text/plain": [
       "                   Pais  Cód  Num              Moeda       Cód_BCB  \\\n",
       "0              Colombia  COP  720      PESO/COLOMBIA  ChkMoeda=159   \n",
       "1                 Chile  CLP  715         PESO CHILE  ChkMoeda=158   \n",
       "2               Bolivia  BOB   30  BOLIVIANO/BOLIVIA    ChkMoeda=9   \n",
       "3                Mexico  MXN  741        PESO/MEXICO  ChkMoeda=165   \n",
       "4  Republica Dominicana  DOP  730  PESO/REP. DOMINIC  ChkMoeda=161   \n",
       "\n",
       "       DataIN     DataFIM                                  Link_Download_CSV  \n",
       "0  01/05/2023  16/05/2023  https://ptax.bcb.gov.br/ptax_internet/consulta...  \n",
       "1  01/05/2023  16/05/2023  https://ptax.bcb.gov.br/ptax_internet/consulta...  \n",
       "2  01/05/2023  16/05/2023  https://ptax.bcb.gov.br/ptax_internet/consulta...  \n",
       "3  01/05/2023  16/05/2023  https://ptax.bcb.gov.br/ptax_internet/consulta...  \n",
       "4  01/05/2023  16/05/2023  https://ptax.bcb.gov.br/ptax_internet/consulta...  "
      ]
     },
     "execution_count": 16,
     "metadata": {},
     "output_type": "execute_result"
    }
   ],
   "source": [
    "df.head()"
   ]
  },
  {
   "cell_type": "code",
   "execution_count": 17,
   "metadata": {},
   "outputs": [],
   "source": [
    "df_cod_moeda = df.Cód_BCB\n",
    "df_pais = df.Pais\n",
    "dt_in = '01/05/2023'\n",
    "dt_fim = '20/05/2023'"
   ]
  },
  {
   "cell_type": "code",
   "execution_count": 20,
   "metadata": {},
   "outputs": [],
   "source": [
    "lg = 1\n",
    "l = 0\n",
    "c = 0\n",
    "\n",
    "\n",
    "chrome_options = Options()\n",
    "chrome_options.add_experimental_option(\"prefs\", {\n",
    "    \"download.prompt_for_download\": True,\n",
    "    \"download.directory_upgrade\": True,\n",
    "    \"safebrowsing.enabled\": True\n",
    "})\n",
    "driver = webdriver.Chrome(options=chrome_options)\n",
    "\n",
    "while (l < lg ):\n",
    "    link_download = f'https://ptax.bcb.gov.br/ptax_internet/consultaBoletim.do?method=gerarCSVFechamentoMoedaNoPeriodo&{df_cod_moeda[l]}&DATAINI={dt_in}&DATAFIM={dt_fim}'\n",
    "    driver.get(link_download)\n",
    "    time.sleep(2)\n",
    "    pyag.write(df_pais[l])\n",
    "    time.sleep(0.5)\n",
    "    pyag.press(['Tab'])\n",
    "    pyag.press(['Tab'])\n",
    "    pyag.press(['Enter'])\n",
    "    l += 1\n",
    "    c += 1\n",
    "\n",
    "time.sleep(1)    \n",
    "driver.quit()"
   ]
  }
 ],
 "metadata": {
  "kernelspec": {
   "display_name": "venv",
   "language": "python",
   "name": "python3"
  },
  "language_info": {
   "codemirror_mode": {
    "name": "ipython",
    "version": 3
   },
   "file_extension": ".py",
   "mimetype": "text/x-python",
   "name": "python",
   "nbconvert_exporter": "python",
   "pygments_lexer": "ipython3",
   "version": "3.9.17"
  },
  "orig_nbformat": 4
 },
 "nbformat": 4,
 "nbformat_minor": 2
}
